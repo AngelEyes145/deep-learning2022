{
 "cells": [
  {
   "cell_type": "code",
   "execution_count": 27,
   "metadata": {},
   "outputs": [],
   "source": [
    "import torch\n",
    "from torchvision import datasets, transforms\n",
    "import numpy as np\n",
    "import struct\n",
    "import matplotlib.pyplot as plt\n",
    "import random"
   ]
  },
  {
   "cell_type": "code",
   "execution_count": 3,
   "metadata": {},
   "outputs": [
    {
     "name": "stdout",
     "output_type": "stream",
     "text": [
      "Downloading http://yann.lecun.com/exdb/mnist/train-images-idx3-ubyte.gz\n",
      "Downloading http://yann.lecun.com/exdb/mnist/train-images-idx3-ubyte.gz to ./MNIST\\raw\\train-images-idx3-ubyte.gz\n"
     ]
    },
    {
     "name": "stderr",
     "output_type": "stream",
     "text": [
      "100.0%\n"
     ]
    },
    {
     "name": "stdout",
     "output_type": "stream",
     "text": [
      "Extracting ./MNIST\\raw\\train-images-idx3-ubyte.gz to ./MNIST\\raw\n",
      "\n",
      "Downloading http://yann.lecun.com/exdb/mnist/train-labels-idx1-ubyte.gz\n",
      "Downloading http://yann.lecun.com/exdb/mnist/train-labels-idx1-ubyte.gz to ./MNIST\\raw\\train-labels-idx1-ubyte.gz\n"
     ]
    },
    {
     "name": "stderr",
     "output_type": "stream",
     "text": [
      "100.0%\n"
     ]
    },
    {
     "name": "stdout",
     "output_type": "stream",
     "text": [
      "Extracting ./MNIST\\raw\\train-labels-idx1-ubyte.gz to ./MNIST\\raw\n",
      "\n",
      "Downloading http://yann.lecun.com/exdb/mnist/t10k-images-idx3-ubyte.gz\n",
      "Downloading http://yann.lecun.com/exdb/mnist/t10k-images-idx3-ubyte.gz to ./MNIST\\raw\\t10k-images-idx3-ubyte.gz\n"
     ]
    },
    {
     "name": "stderr",
     "output_type": "stream",
     "text": [
      "100.0%\n"
     ]
    },
    {
     "name": "stdout",
     "output_type": "stream",
     "text": [
      "Extracting ./MNIST\\raw\\t10k-images-idx3-ubyte.gz to ./MNIST\\raw\n",
      "\n",
      "Downloading http://yann.lecun.com/exdb/mnist/t10k-labels-idx1-ubyte.gz\n",
      "Downloading http://yann.lecun.com/exdb/mnist/t10k-labels-idx1-ubyte.gz to ./MNIST\\raw\\t10k-labels-idx1-ubyte.gz\n"
     ]
    },
    {
     "name": "stderr",
     "output_type": "stream",
     "text": [
      "100.0%"
     ]
    },
    {
     "name": "stdout",
     "output_type": "stream",
     "text": [
      "Extracting ./MNIST\\raw\\t10k-labels-idx1-ubyte.gz to ./MNIST\\raw\n",
      "\n"
     ]
    },
    {
     "name": "stderr",
     "output_type": "stream",
     "text": [
      "\n"
     ]
    }
   ],
   "source": [
    "# 下载训练集\n",
    "train_dataset = datasets.MNIST(root='./',\n",
    "                train=True,\n",
    "                transform=transforms.ToTensor(),\n",
    "                download=True)\n",
    "# 下载测试集\n",
    "test_dataset = datasets.MNIST(root='./',\n",
    "               train=False,\n",
    "               transform=transforms.ToTensor(),\n",
    "               download=True)"
   ]
  },
  {
   "cell_type": "code",
   "execution_count": 4,
   "metadata": {},
   "outputs": [
    {
     "name": "stdout",
     "output_type": "stream",
     "text": [
      "Precison: 0.9295\n",
      "Dataset MNIST\n",
      "    Number of datapoints: 60000\n",
      "    Root location: ./\n",
      "    Split: Train\n"
     ]
    }
   ],
   "source": [
    "# 标签one-hot处理\n",
    "def onehot(targets, num):\n",
    "    result = np.zeros((num, 10))\n",
    "    for i in range(num):\n",
    "        result[i][targets[i]] = 1\n",
    "    return result\n",
    "\n",
    "# sigmoid\n",
    "def sigmoid(x):\n",
    "    return 1 / (1 + np.exp(-x))\n",
    "\n",
    "# sigmoid的一阶导数\n",
    "def Dsigmoid(x):\n",
    "    return sigmoid(x)*(1-sigmoid(x))\n",
    "\n",
    "\n",
    "class NN(object):\n",
    "    def __init__(self, l0, l1, l2):\n",
    "        self.lr = 0.1                                        # 学习率\n",
    "        self.W1 = np.random.randn(l0, l1) * 0.01             # 初始化\n",
    "        self.b1 = np.random.randn(l1) * 0.01\n",
    "        self.W2 = np.random.randn(l1, l2) * 0.01\n",
    "        self.b2 = np.random.randn(l2) * 0.01\n",
    "\n",
    "    # 前向传播\n",
    "    def forward(self, X, y):\n",
    "        self.X = X                                           # m x 784\n",
    "        self.z1 = np.dot(X, self.W1) + self.b1               # m x 500, 等于中间层层数\n",
    "        self.a1 = sigmoid(self.z1)\n",
    "        self.z2 = np.dot(self.a1, self.W2) + self.b2         # m x 10\n",
    "        self.a2 = sigmoid(self.z2)\n",
    "        loss = np.sum((self.a2 - y) * (self.a2 - y)) / 2     # 均方差\n",
    "        self.d2 = (self.a2 - y) * Dsigmoid(self.z2)          # m x 10 , 用于反向传播\n",
    "        return loss, self.a2\n",
    "\n",
    "    # 反向传播\n",
    "    def backward(self):\n",
    "        dW2 = np.dot(self.a1.T, self.d2) / 3                  # 500 x 10, batchsize=3\n",
    "        db2 = np.sum(self.d2, axis=0) / 3                     # 10\n",
    "        d1 = np.dot(self.d2, self.W2.T) * Dsigmoid(self.z1)   # m x 500, 用于反向传播\n",
    "        dW1 = np.dot(self.X.T, d1) / 3                        # 784x 500\n",
    "        db1 = np.sum(d1, axis=0) / 3                          # 500\n",
    "\n",
    "        self.W2 -= self.lr * dW2\n",
    "        self.b2 -= self.lr * db2\n",
    "        self.W1 -= self.lr * dW1\n",
    "        self.b1 -= self.lr * db1\n",
    "\n",
    "\n",
    "def train():\n",
    "    nn = NN(784, 500, 10)\n",
    "\n",
    "    for epoch in range(3):\n",
    "        for i in range(0, 60000, 3):\n",
    "            X = train_data.data[i:i + 3]\n",
    "            y = train_data.targets[i:i + 3]\n",
    "            loss, _ = nn.forward(X, y)\n",
    "            print(\"Epoch:\", epoch, \"-\", i, \":\", \"{:.3f}\".format(loss))\n",
    "            nn.backward()\n",
    "        np.savez(\"data.npz\", w1=nn.W1, b1=nn.b1, w2=nn.W2, b2=nn.b2)\n",
    "\n",
    "def test():\n",
    "    r = np.load(\"data.npz\")\n",
    "    nn = NN(784, 500, 10)\n",
    "    nn.W1 = r[\"w1\"]\n",
    "    nn.b1 = r[\"b1\"]\n",
    "    nn.W2 = r[\"w2\"]\n",
    "    nn.b2 = r[\"b2\"]\n",
    "    _, result = nn.forward(test_data.data, test_data.targets2)\n",
    "    result = np.argmax(result, axis=1)\n",
    "    precison = np.sum(result==test_data.targets) / 10000\n",
    "    print(\"Precison:\", precison)\n",
    "\n",
    "if __name__ == '__main__':\n",
    "\n",
    "    # Mnist手写数字集\n",
    "    train_data = datasets.MNIST(root='./', train=True, download=False)\n",
    "    test_data = datasets.MNIST(root='./', train=False, download=False)\n",
    "    train_data.data = train_data.data.numpy()         # [60000,28,28]\n",
    "    train_data.targets = train_data.targets.numpy()   # [60000]\n",
    "    test_data.data = test_data.data.numpy()           # [10000,28,28]\n",
    "    test_data.targets = test_data.targets.numpy()     # [10000]\n",
    "\n",
    "    # 输入向量处理\n",
    "    train_data.data = train_data.data.reshape(60000, 28 * 28) / 255.  # (60000, 784)\n",
    "    test_data.data = test_data.data.reshape(10000, 28 * 28) / 255.\n",
    "\n",
    "    # 标签one-hot处理\n",
    "    train_data.targets = onehot(train_data.targets, 60000) # (60000, 10)\n",
    "    test_data.targets2 = onehot(test_data.targets, 10000)  # 用于前向传播\n",
    "\n",
    "    # train()\n",
    "    test()\n",
    "    print(train_data)"
   ]
  },
  {
   "cell_type": "code",
   "execution_count": 7,
   "metadata": {},
   "outputs": [
    {
     "name": "stdout",
     "output_type": "stream",
     "text": [
      "magic:2051, count:60000, size:28*28\n",
      "done 10000pictures\n",
      "done 20000pictures\n",
      "done 30000pictures\n",
      "done 40000pictures\n",
      "done 50000pictures\n",
      "done 60000pictures\n"
     ]
    },
    {
     "data": {
      "text/plain": [
       "array([[[0., 0., 0., ..., 0., 0., 0.],\n",
       "        [0., 0., 0., ..., 0., 0., 0.],\n",
       "        [0., 0., 0., ..., 0., 0., 0.],\n",
       "        ...,\n",
       "        [0., 0., 0., ..., 0., 0., 0.],\n",
       "        [0., 0., 0., ..., 0., 0., 0.],\n",
       "        [0., 0., 0., ..., 0., 0., 0.]],\n",
       "\n",
       "       [[0., 0., 0., ..., 0., 0., 0.],\n",
       "        [0., 0., 0., ..., 0., 0., 0.],\n",
       "        [0., 0., 0., ..., 0., 0., 0.],\n",
       "        ...,\n",
       "        [0., 0., 0., ..., 0., 0., 0.],\n",
       "        [0., 0., 0., ..., 0., 0., 0.],\n",
       "        [0., 0., 0., ..., 0., 0., 0.]],\n",
       "\n",
       "       [[0., 0., 0., ..., 0., 0., 0.],\n",
       "        [0., 0., 0., ..., 0., 0., 0.],\n",
       "        [0., 0., 0., ..., 0., 0., 0.],\n",
       "        ...,\n",
       "        [0., 0., 0., ..., 0., 0., 0.],\n",
       "        [0., 0., 0., ..., 0., 0., 0.],\n",
       "        [0., 0., 0., ..., 0., 0., 0.]],\n",
       "\n",
       "       ...,\n",
       "\n",
       "       [[0., 0., 0., ..., 0., 0., 0.],\n",
       "        [0., 0., 0., ..., 0., 0., 0.],\n",
       "        [0., 0., 0., ..., 0., 0., 0.],\n",
       "        ...,\n",
       "        [0., 0., 0., ..., 0., 0., 0.],\n",
       "        [0., 0., 0., ..., 0., 0., 0.],\n",
       "        [0., 0., 0., ..., 0., 0., 0.]],\n",
       "\n",
       "       [[0., 0., 0., ..., 0., 0., 0.],\n",
       "        [0., 0., 0., ..., 0., 0., 0.],\n",
       "        [0., 0., 0., ..., 0., 0., 0.],\n",
       "        ...,\n",
       "        [0., 0., 0., ..., 0., 0., 0.],\n",
       "        [0., 0., 0., ..., 0., 0., 0.],\n",
       "        [0., 0., 0., ..., 0., 0., 0.]],\n",
       "\n",
       "       [[0., 0., 0., ..., 0., 0., 0.],\n",
       "        [0., 0., 0., ..., 0., 0., 0.],\n",
       "        [0., 0., 0., ..., 0., 0., 0.],\n",
       "        ...,\n",
       "        [0., 0., 0., ..., 0., 0., 0.],\n",
       "        [0., 0., 0., ..., 0., 0., 0.],\n",
       "        [0., 0., 0., ..., 0., 0., 0.]]])"
      ]
     },
     "execution_count": 7,
     "metadata": {},
     "output_type": "execute_result"
    }
   ],
   "source": [
    "train_images_idx3_ubyte_file = './mnist/raw/train-images-idx3-ubyte'\n",
    "train_labels_idx1_ubyte_file = './mnist/raw/train-labels-idx1-ubyte'\n",
    "test_images_idx3_ubyte_file = './mnist/raw/t10k-images-idx3-ubyte'\n",
    "test_labels_idx1_ubyte_file = './mnist/raw/t10k-labels-idx1-ubyte'\n",
    "\n",
    "def decode_idx3_ubyte(images_idx3_ubyte_file):\n",
    "    bin_file = open(images_idx3_ubyte_file, 'rb')\n",
    "    bin_data = bin_file.read()\n",
    "    offset = 0\n",
    "    # '>IIII'是指使用大端法读取4个unsigned int32\n",
    "    magic_number, num_images, num_rows, num_cols = struct.unpack_from('>IIII', bin_data, offset)\n",
    "    print('magic:%d, count:%d, size:%d*%d' % (magic_number, num_images, num_rows, num_cols))\n",
    "    image_size = num_rows * num_cols\n",
    "    offset += struct.calcsize('>IIII')\n",
    "    # '>784B'是指用大端法读取784个unsigned byte字节，因为28*28 = 784\n",
    "    fmt_image = '>' + str(image_size) + 'B'\n",
    "    images = np.empty((num_images, num_rows, num_cols))\n",
    "    for i in range(num_images):\n",
    "        if (i+1) % 10000 == 0:\n",
    "            print('done %d' % (i+1) + 'pictures')\n",
    "        images[i] = np.array(struct.unpack_from(fmt_image, bin_data, offset)).reshape((num_rows, num_cols))\n",
    "        offset += struct.calcsize(fmt_image)\n",
    "    bin_file.close()\n",
    "    return images\n",
    "\n",
    "def decode_idx1_ubyte(labels_idx1_ubyte_file):\n",
    "    bin_data = open(labels_idx1_ubyte_file, 'rb').read()\n",
    "    offset = 0\n",
    "    magic_number, num_images, num_rows, num_cols = struct.unpack_from('>II', bin_data, offset)\n",
    "    print('magic:%d, num_images:%d, labels' % (magic_number, num_images))\n",
    "    offset += struct.calcsize('>II')\n",
    "    fmt_image = '>B'\n",
    "    labels = np.empty(num_images)\n",
    "    for i in range(num_images):\n",
    "        if (i+1) % 10000 == 0:\n",
    "            print('done %d' % (i+1) + 'labels')\n",
    "        labels[i] = struct.unpack_from(fmt_image, bin_data, offset)[0]\n",
    "        offset += struct.calcsize(fmt_image)\n",
    "    return labels\n",
    "\n",
    "def load_train_images(train_images=train_images_idx3_ubyte_file):\n",
    "    return decode_idx3_ubyte(train_images)\n",
    "\n",
    "def load_train_labels(train_labels=train_labels_idx1_ubyte_file):\n",
    "    return decode_idx1_ubyte(train_labels)\n",
    "\n",
    "def load_test_images(test_images=test_images_idx3_ubyte_file):\n",
    "    return decode_idx3_ubyte(test_images)\n",
    "\n",
    "def load_test_labels(test_labels=test_labels_idx1_ubyte_file):\n",
    "    return decode_idx1_ubyte(test_labels)\n",
    "\n",
    "train_images = load_train_images()"
   ]
  },
  {
   "cell_type": "code",
   "execution_count": 31,
   "metadata": {},
   "outputs": [
    {
     "data": {
      "image/png": "[encoded data removed]",
      "text/plain": [
       "<Figure size 432x288 with 10 Axes>"
      ]
     },
     "metadata": {
      "needs_background": "light"
     },
     "output_type": "display_data"
    }
   ],
   "source": [
    "# 随机抽十个图片显示，train_images的shape为 60000*28*28\n",
    "fig, ax = plt.subplots(2, 5)\n",
    "ax = ax.flatten()\n",
    "for i in range(10):\n",
    "    idx = random.randint(0, 59999)\n",
    "    ax[i].imshow(train_images[idx])\n",
    "plt.show()"
   ]
  }
 ],
 "metadata": {
  "kernelspec": {
   "display_name": "Python 3.10.6 64-bit",
   "language": "python",
   "name": "python3"
  },
  "language_info": {
   "codemirror_mode": {
    "name": "ipython",
    "version": 3
   },
   "file_extension": ".py",
   "mimetype": "text/x-python",
   "name": "python",
   "nbconvert_exporter": "python",
   "pygments_lexer": "ipython3",
   "version": "3.10.6"
  },
  "orig_nbformat": 4,
  "vscode": {
   "interpreter": {
    "hash": "21e578f6440059c18f477992d0613b33be936b05e550120a59227a921ce346f6"
   }
  }
 },
 "nbformat": 4,
 "nbformat_minor": 2
}
