{
 "cells": [
  {
   "cell_type": "code",
   "execution_count": 1,
   "metadata": {},
   "outputs": [],
   "source": [
    "import numpy as np\n",
    "import torch\n",
    "import torch.nn as nn"
   ]
  },
  {
   "cell_type": "code",
   "execution_count": 3,
   "metadata": {},
   "outputs": [
    {
     "data": {
      "text/plain": [
       "(11, 1)"
      ]
     },
     "execution_count": 3,
     "metadata": {},
     "output_type": "execute_result"
    }
   ],
   "source": [
    "x_values = [i for i in range(11)]\n",
    "x_train = np.array(x_values, dtype=np.float32)\n",
    "x_train = x_train.reshape(-1, 1)\n",
    "x_train.shape"
   ]
  },
  {
   "cell_type": "code",
   "execution_count": 6,
   "metadata": {},
   "outputs": [
    {
     "data": {
      "text/plain": [
       "(11, 1)"
      ]
     },
     "execution_count": 6,
     "metadata": {},
     "output_type": "execute_result"
    }
   ],
   "source": [
    "y_values = [2*i+1 for i in x_values]\n",
    "y_train = np.array(y_values, dtype=np.float32)\n",
    "y_train = y_train.reshape(-1, 1)\n",
    "y_train.shape"
   ]
  },
  {
   "cell_type": "code",
   "execution_count": 9,
   "metadata": {},
   "outputs": [],
   "source": [
    "class LinearRegressionModel(nn.Module):\n",
    "    def __init__(self, input_dim, output_dim):\n",
    "        super(LinearRegressionModel, self).__init__()\n",
    "        self.linear = nn.Linear(input_dim, output_dim)\n",
    "        \n",
    "    def forward(self, x):\n",
    "        out = self.linear(x)\n",
    "        return out"
   ]
  },
  {
   "cell_type": "code",
   "execution_count": 10,
   "metadata": {},
   "outputs": [],
   "source": [
    "input_dim = 1\n",
    "output_dim = 1\n",
    "model = LinearRegressionModel(input_dim, output_dim)"
   ]
  },
  {
   "cell_type": "markdown",
   "metadata": {},
   "source": [
    "指定好参数和损失函数"
   ]
  },
  {
   "cell_type": "code",
   "execution_count": 12,
   "metadata": {},
   "outputs": [],
   "source": [
    "epochs = 1000\n",
    "learning_rate = 0.01\n",
    "optimizer = torch.optim.SGD(model.parameters(), lr=learning_rate)\n",
    "criterion = nn.MSELoss()"
   ]
  },
  {
   "cell_type": "markdown",
   "metadata": {},
   "source": [
    "训练模型"
   ]
  },
  {
   "cell_type": "code",
   "execution_count": 14,
   "metadata": {},
   "outputs": [
    {
     "name": "stdout",
     "output_type": "stream",
     "text": [
      "epoch 50, loss 0.0015487662749364972\n",
      "epoch 100, loss 0.0008833635947667062\n",
      "epoch 150, loss 0.0005038300296291709\n",
      "epoch 200, loss 0.00028737017419189215\n",
      "epoch 250, loss 0.00016390923701692373\n",
      "epoch 300, loss 9.348003368359059e-05\n",
      "epoch 350, loss 5.3316893172450364e-05\n",
      "epoch 400, loss 3.041024501726497e-05\n",
      "epoch 450, loss 1.734385296003893e-05\n",
      "epoch 500, loss 9.89308682619594e-06\n",
      "epoch 550, loss 5.6429266805935185e-06\n",
      "epoch 600, loss 3.218756546630175e-06\n",
      "epoch 650, loss 1.836075057326525e-06\n",
      "epoch 700, loss 1.047134446707787e-06\n",
      "epoch 750, loss 5.973244583401538e-07\n",
      "epoch 800, loss 3.4068779086737777e-07\n",
      "epoch 850, loss 1.945035705830378e-07\n",
      "epoch 900, loss 1.1077563755179654e-07\n",
      "epoch 950, loss 6.329364055090991e-08\n",
      "epoch 1000, loss 3.604001008739033e-08\n"
     ]
    }
   ],
   "source": [
    "for epoch in range(epochs):\n",
    "    epoch += 1\n",
    "    inputs = torch.from_numpy(x_train)\n",
    "    labels = torch.from_numpy(y_train)\n",
    "    \n",
    "    #梯度每一次迭代要清零\n",
    "    optimizeer.zero_grad()\n",
    "    \n",
    "    #前向传播\n",
    "    outputs = model.forward(inputs)\n",
    "    \n",
    "    #计算损失\n",
    "    loss = criterion(outputs, labels)\n",
    "    \n",
    "    #反向传播\n",
    "    loss.backward()\n",
    "    \n",
    "    #更新权重参数\n",
    "    optimizer.step()\n",
    "    if epoch % 50 == 0:\n",
    "        print('epoch {}, loss {}'.format(epoch, loss.item()))"
   ]
  },
  {
   "cell_type": "markdown",
   "metadata": {},
   "source": [
    "测试模型预测结果"
   ]
  },
  {
   "cell_type": "code",
   "execution_count": 15,
   "metadata": {},
   "outputs": [
    {
     "data": {
      "text/plain": [
       "array([[ 1.0003532],\n",
       "       [ 3.0003023],\n",
       "       [ 5.0002513],\n",
       "       [ 7.0002007],\n",
       "       [ 9.00015  ],\n",
       "       [11.000098 ],\n",
       "       [13.000048 ],\n",
       "       [14.999996 ],\n",
       "       [16.999947 ],\n",
       "       [18.999895 ],\n",
       "       [20.999844 ]], dtype=float32)"
      ]
     },
     "execution_count": 15,
     "metadata": {},
     "output_type": "execute_result"
    }
   ],
   "source": [
    "predict = model(torch.from_numpy(x_train).requires_grad_()).data.numpy()\n",
    "predict"
   ]
  },
  {
   "cell_type": "markdown",
   "metadata": {},
   "source": [
    "模型的保存与读取"
   ]
  },
  {
   "cell_type": "code",
   "execution_count": 16,
   "metadata": {},
   "outputs": [],
   "source": [
    "torch.save(model.state_dict(), 'model.pk1')"
   ]
  },
  {
   "cell_type": "code",
   "execution_count": 17,
   "metadata": {},
   "outputs": [
    {
     "data": {
      "text/plain": [
       "<All keys matched successfully>"
      ]
     },
     "execution_count": 17,
     "metadata": {},
     "output_type": "execute_result"
    }
   ],
   "source": [
    "model.load_state_dict(torch.load('model.pk1'))"
   ]
  }
 ],
 "metadata": {
  "kernelspec": {
   "display_name": "Python 3.8.10 64-bit",
   "language": "python",
   "name": "python3"
  },
  "language_info": {
   "codemirror_mode": {
    "name": "ipython",
    "version": 3
   },
   "file_extension": ".py",
   "mimetype": "text/x-python",
   "name": "python",
   "nbconvert_exporter": "python",
   "pygments_lexer": "ipython3",
   "version": "3.8.10"
  },
  "orig_nbformat": 4,
  "vscode": {
   "interpreter": {
    "hash": "8e9417148b0c408e9515b49e347198e65674529001264fa136996b4109c57467"
   }
  }
 },
 "nbformat": 4,
 "nbformat_minor": 2
}
