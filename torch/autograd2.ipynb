{
 "cells": [
  {
   "cell_type": "code",
   "execution_count": 25,
   "metadata": {},
   "outputs": [],
   "source": [
    "import torch\n",
    "from torch.autograd import Variable"
   ]
  },
  {
   "cell_type": "code",
   "execution_count": 21,
   "metadata": {},
   "outputs": [
    {
     "name": "stdout",
     "output_type": "stream",
     "text": [
      "tensor([[ 0.6631,  1.9549, -0.2034,  0.1306],\n",
      "        [-2.0471, -0.4220,  1.7422, -1.3104],\n",
      "        [-0.0038,  2.3159,  0.9454, -1.4830]], requires_grad=True)\n",
      "tensor([[ 0.2286, -1.0269,  0.6130, -2.1834],\n",
      "        [ 2.0522,  0.3369, -0.6847,  0.5112],\n",
      "        [ 0.6126,  0.8783,  0.1320, -0.7852]], requires_grad=True)\n"
     ]
    }
   ],
   "source": [
    "x = torch.randn(3, 4)\n",
    "x.requires_grad = True\n",
    "y = torch.randn(3, 4, requires_grad=True)\n",
    "\n",
    "print(x)\n",
    "print(y)"
   ]
  },
  {
   "cell_type": "code",
   "execution_count": 26,
   "metadata": {},
   "outputs": [],
   "source": [
    "t = x + y\n",
    "s = t.sum()\n",
    "v1 = Variable(s, requires_grad=True)"
   ]
  },
  {
   "cell_type": "code",
   "execution_count": 29,
   "metadata": {},
   "outputs": [
    {
     "name": "stdout",
     "output_type": "stream",
     "text": [
      "tensor(2.9671, grad_fn=<SumBackward0>)\n",
      "tensor(2.9671)\n",
      "True True True True\n"
     ]
    }
   ],
   "source": [
    "print(s)\n",
    "print(v1.data)\n",
    "s.backward()\n",
    "# t.requires_grad = True\n",
    "print(x.requires_grad, y.requires_grad, t.requires_grad, s.requires_grad)"
   ]
  }
 ],
 "metadata": {
  "kernelspec": {
   "display_name": "Python 3.8.10 64-bit",
   "language": "python",
   "name": "python3"
  },
  "language_info": {
   "codemirror_mode": {
    "name": "ipython",
    "version": 3
   },
   "file_extension": ".py",
   "mimetype": "text/x-python",
   "name": "python",
   "nbconvert_exporter": "python",
   "pygments_lexer": "ipython3",
   "version": "3.8.10"
  },
  "orig_nbformat": 4,
  "vscode": {
   "interpreter": {
    "hash": "8e9417148b0c408e9515b49e347198e65674529001264fa136996b4109c57467"
   }
  }
 },
 "nbformat": 4,
 "nbformat_minor": 2
}
