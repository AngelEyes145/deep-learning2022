{
 "cells": [
  {
   "cell_type": "code",
   "execution_count": 1,
   "metadata": {},
   "outputs": [],
   "source": [
    "import torch"
   ]
  },
  {
   "cell_type": "markdown",
   "metadata": {},
   "source": [
    "2. ⾮降维求和\n",
    "   + 有时在调⽤函数来计算总和或均值时保持轴数不变会很有⽤。 \n",
    "   + sum_A = A.sum(axis=1, keepdims=True)"
   ]
  },
  {
   "cell_type": "code",
   "execution_count": 40,
   "metadata": {},
   "outputs": [
    {
     "data": {
      "text/plain": [
       "(tensor([[ 0,  1,  2,  3,  4,  5],\n",
       "         [ 6,  7,  8,  9, 10, 11],\n",
       "         [12, 13, 14, 15, 16, 17],\n",
       "         [18, 19, 20, 21, 22, 23],\n",
       "         [24, 25, 26, 27, 28, 29]]),\n",
       " tensor([[ 15],\n",
       "         [ 51],\n",
       "         [ 87],\n",
       "         [123],\n",
       "         [159]]))"
      ]
     },
     "execution_count": 40,
     "metadata": {},
     "output_type": "execute_result"
    }
   ],
   "source": [
    "A = torch.arange(30).reshape(5, 6)\n",
    "B = A.sum(axis=1, keepdim=True)\n",
    "A, B"
   ]
  },
  {
   "cell_type": "markdown",
   "metadata": {},
   "source": [
    "[注]\n",
    "pytorch中的 Tensor 对象不支持删除行/列操作，所以当需要删除某行/某列时，可以用切片和cat操作，如：\n",
    "对（5, 6）张量，删除第3列；对（5, 6）张量，删除第3行。"
   ]
  },
  {
   "cell_type": "code",
   "execution_count": 15,
   "metadata": {},
   "outputs": [
    {
     "data": {
      "text/plain": [
       "(tensor([[ 0,  1,  2,  4,  5],\n",
       "         [ 6,  7,  8, 10, 11],\n",
       "         [12, 13, 14, 16, 17],\n",
       "         [18, 19, 20, 22, 23],\n",
       "         [24, 25, 26, 28, 29]]),\n",
       " tensor([[ 0,  1,  2,  3,  4,  5],\n",
       "         [ 6,  7,  8,  9, 10, 11],\n",
       "         [12, 13, 14, 15, 16, 17],\n",
       "         [24, 25, 26, 27, 28, 29]]))"
      ]
     },
     "execution_count": 15,
     "metadata": {},
     "output_type": "execute_result"
    }
   ],
   "source": [
    "torch.cat((A[:, :3], A[:, 4:6]), dim=1), torch.cat((A[:3, :], A[4:5, :]), dim=0)"
   ]
  },
  {
   "cell_type": "markdown",
   "metadata": {},
   "source": [
    "mv()函数: 矩阵-向量积，等价于运算符 @ （两个矩阵@运算，相当于矩阵乘法）"
   ]
  },
  {
   "cell_type": "code",
   "execution_count": 54,
   "metadata": {},
   "outputs": [
    {
     "data": {
      "text/plain": [
       "tensor([5.3904, 8.3087, 7.0844, 8.0166, 5.0494])"
      ]
     },
     "execution_count": 54,
     "metadata": {},
     "output_type": "execute_result"
    }
   ],
   "source": [
    "B = A.sum(axis=0)\n",
    "# torch.mv(A, B)\n",
    "A @ B"
   ]
  },
  {
   "cell_type": "markdown",
   "metadata": {},
   "source": [
    "两个Tensor在做矩阵运算的时候，要求数据类型一致。"
   ]
  },
  {
   "cell_type": "code",
   "execution_count": 58,
   "metadata": {},
   "outputs": [
    {
     "data": {
      "text/plain": [
       "tensor([[ 766, 1584, 1278, 1194],\n",
       "        [1120, 1545, 1322, 1712],\n",
       "        [ 685,  922,  905, 1157],\n",
       "        [ 933, 1373, 1166, 1412],\n",
       "        [1277, 1442, 1355, 1835]])"
      ]
     },
     "execution_count": 58,
     "metadata": {},
     "output_type": "execute_result"
    }
   ],
   "source": [
    "# A = torch.rand(5, 6)\n",
    "A = torch.randint(100, (5, 6))\n",
    "B = torch.randint(10, (6, 4))\n",
    "# torch.matmul(A, B)\n",
    "torch.mm(A, B)\n",
    "A @ B"
   ]
  },
  {
   "cell_type": "code",
   "execution_count": 65,
   "metadata": {},
   "outputs": [
    {
     "data": {
      "text/plain": [
       "tensor(2.2598)"
      ]
     },
     "execution_count": 65,
     "metadata": {},
     "output_type": "execute_result"
    }
   ],
   "source": [
    "# 范数\n",
    "C = torch.randint(100, (4, 3))\n",
    "C = torch.rand(4,3)\n",
    "torch.norm(C)"
   ]
  },
  {
   "cell_type": "markdown",
   "metadata": {},
   "source": [
    "2.4 微分   \n",
    "f的导数定义为：$f^{\\prime}(x) = \\lim\\limits_{h \\rightarrow 0} \\frac{f(x+h)-f(x)}{h}$   \n",
    "定义 $u = f(x) = 3x^2 − 4x$."
   ]
  },
  {
   "cell_type": "code",
   "execution_count": 66,
   "metadata": {},
   "outputs": [
    {
     "name": "stdout",
     "output_type": "stream",
     "text": [
      "h=0.10000 Numerical Limits=2.30000\n",
      "h=0.01000 Numerical Limits=2.03000\n",
      "h=0.00100 Numerical Limits=2.00300\n",
      "h=0.00010 Numerical Limits=2.00030\n",
      "h=0.00001 Numerical Limits=2.00003\n"
     ]
    }
   ],
   "source": [
    "def f(x):\n",
    "    return 3*x**2 - 4*x\n",
    "\n",
    "def numerical_lim(f, x, h):\n",
    "    return (f(x+h) - f(x)) / h\n",
    "\n",
    "h = 0.1 \n",
    "for i in range(5):\n",
    "    print(f'h={h:.5f} Numerical Limits={numerical_lim(f, 1, h):.5f}')\n",
    "    h *= 0.1"
   ]
  }
 ],
 "metadata": {
  "kernelspec": {
   "display_name": "Python 3.8.10 64-bit",
   "language": "python",
   "name": "python3"
  },
  "language_info": {
   "codemirror_mode": {
    "name": "ipython",
    "version": 3
   },
   "file_extension": ".py",
   "mimetype": "text/x-python",
   "name": "python",
   "nbconvert_exporter": "python",
   "pygments_lexer": "ipython3",
   "version": "3.8.10"
  },
  "orig_nbformat": 4,
  "vscode": {
   "interpreter": {
    "hash": "8e9417148b0c408e9515b49e347198e65674529001264fa136996b4109c57467"
   }
  }
 },
 "nbformat": 4,
 "nbformat_minor": 2
}
