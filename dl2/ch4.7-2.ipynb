{
 "cells": [
  {
   "cell_type": "code",
   "execution_count": 2,
   "metadata": {},
   "outputs": [],
   "source": [
    "import os\n",
    "import numpy as np\n",
    "import torch\n",
    "import torch.nn.functional as F\n",
    "import torchvision\n",
    "import matplotlib.pyplot as plt\n",
    "from time import time\n",
    "from torchvision import datasets, transforms\n",
    "from torch import nn, optim"
   ]
  },
  {
   "cell_type": "code",
   "execution_count": 3,
   "metadata": {},
   "outputs": [
    {
     "data": {
      "text/plain": [
       "<matplotlib.image.AxesImage at 0x280fa61aa40>"
      ]
     },
     "execution_count": 3,
     "metadata": {},
     "output_type": "execute_result"
    },
    {
     "data": {
      "image/png": "[encoded data removed]",
      "text/plain": [
       "<Figure size 432x288 with 1 Axes>"
      ]
     },
     "metadata": {
      "needs_background": "light"
     },
     "output_type": "display_data"
    }
   ],
   "source": [
    "# 定义transform对象，其定义了数据集中的图片应该做怎样的处理\n",
    "transform = transforms.Compose([transforms.ToTensor(), transforms.Normalize((0.5,), (0.5,)),])\n",
    "\n",
    "# 加载数据集\n",
    "train_dataset = datasets.MNIST(root='./',\n",
    "                train=True,\n",
    "                transform=transform,\n",
    "                download=False)\n",
    "\n",
    "test_dataset = datasets.MNIST(root='./',\n",
    "               train=False,\n",
    "               transform=transform,\n",
    "               download=False)\n",
    "\n",
    "train_loader = torch.utils.data.DataLoader(train_dataset, batch_size=64, shuffle=True)\n",
    "test_loader = torch.utils.data.DataLoader(test_dataset, batch_size=64, shuffle=True)\n",
    "\n",
    "train_images = train_loader.dataset.data\n",
    "plt.imshow(train_images[1])"
   ]
  },
  {
   "cell_type": "code",
   "execution_count": 44,
   "metadata": {},
   "outputs": [
    {
     "name": "stdout",
     "output_type": "stream",
     "text": [
      "Epoch 0 - Training loss: 0.6620361502887979\n",
      "Epoch 1 - Training loss: 0.2671668966060508\n",
      "Epoch 2 - Training loss: 0.20629838134434178\n",
      "Epoch 3 - Training loss: 0.1708237739808079\n",
      "Epoch 4 - Training loss: 0.14412233281010853\n",
      "Epoch 5 - Training loss: 0.1252361095395249\n",
      "Epoch 6 - Training loss: 0.11064415370453713\n",
      "Epoch 7 - Training loss: 0.09729048614797275\n",
      "Epoch 8 - Training loss: 0.08650448356868266\n",
      "Epoch 9 - Training loss: 0.07848016982987475\n",
      "Epoch 10 - Training loss: 0.0722299876294212\n",
      "Epoch 11 - Training loss: 0.06528749131162696\n",
      "Epoch 12 - Training loss: 0.0597170632444759\n",
      "Epoch 13 - Training loss: 0.05510185053720991\n",
      "Epoch 14 - Training loss: 0.050467493308922536\n"
     ]
    }
   ],
   "source": [
    "class NeuralNetwork(nn.Module):\n",
    "    def __init__(self) -> None:\n",
    "        super().__init__()\n",
    "        \"\"\"\n",
    "        定义第一个线性层，\n",
    "        输入为图片（28x28），\n",
    "        输出为第一个隐层的输入，大小为128。\n",
    "        \"\"\"\n",
    "        self.hidden1 = nn.Linear(28*28, 128)\n",
    "        self.act1 = nn.Tanh()\n",
    "\n",
    "        self.hidden2 = nn.Linear(128, 64)\n",
    "        self.act2 = nn.ReLU()\n",
    "\n",
    "        self.hidden3 = nn.Linear(64, 10)\n",
    "        self.softmax = nn.LogSoftmax(dim=1)\n",
    "\n",
    "        # self.model = nn.Sequential(nn.Linear(28*28, 128),\n",
    "        #                 nn.Tanh(),\n",
    "        #                 nn.Linear(128, 64),\n",
    "        #                 nn.ReLU(),\n",
    "        #                 nn.Linear(64, 10),\n",
    "        #                 nn.LogSoftmax(dim=1))\n",
    "\n",
    "    def forward(self, x):\n",
    "        # x = torch.flatten(x, 1)\n",
    "        # x = F.tanh(self.hidden1(x))\n",
    "        # x = F.relu(self.hidden2(x))\n",
    "        # x = F.log_softmax(self.hidden3(x))\n",
    "        x = x.view(x.shape[0], -1)\n",
    "        x = self.hidden1(x)\n",
    "        x = self.act1(x)\n",
    "        x = self.hidden2(x)\n",
    "        x = self.act2(x)\n",
    "        x = self.hidden3(x)\n",
    "        x = self.softmax(x)\n",
    "        return x\n"
   ]
  },
  {
   "cell_type": "code",
   "execution_count": 45,
   "metadata": {},
   "outputs": [],
   "source": [
    "net = NeuralNetwork()\n",
    "# print(net)\n",
    "# params = list(net.parameters())\n",
    "# print(params)\n",
    "\n",
    "# 定义损失函数，CrossEntropyLoss最常用，如果换用其它损失函数，传入张量的相关属性（shape，dtype）需要相应改变\n",
    "criterion = nn.CrossEntropyLoss()\n",
    "# 定义优化器，这里使用随机梯度下降法，学习率设置为0.003，momentum取默认的0.9（用于防止过拟合）\n",
    "optimizer = optim.SGD(net.parameters(), lr=0.003, momentum=0.9)\n",
    "\n",
    "epochs = 15             # 一共训练15轮\n",
    "for e in range(epochs):\n",
    "    epoch_loss = 0      # 本轮的损失值\n",
    "    for image, label in train_loader:\n",
    "        output = net(image)                 # 前向传播获取预测值\n",
    "        loss = criterion(output, label)     # 计算损失\n",
    "        loss.backward()                     # 进行反向传播\n",
    "        optimizer.step()                    # 更新权重\n",
    "        optimizer.zero_grad()               # 清空梯度\n",
    "        epoch_loss += loss.item()           # 累加损失\n",
    "    else:\n",
    "        # 一轮循环结束后打印本轮的损失函数\n",
    "        print(\"Epoch {} - Training loss: {}\".format(e, epoch_loss/len(train_loader)))\n",
    "\n",
    "# 将训练结果保存到mnist.pth文件\n",
    "PATH = './mnist.pth'\n",
    "torch.save(net.state_dict(), PATH)"
   ]
  },
  {
   "cell_type": "code",
   "execution_count": 5,
   "metadata": {},
   "outputs": [
    {
     "ename": "NameError",
     "evalue": "name 'NeuralNetwork' is not defined",
     "output_type": "error",
     "traceback": [
      "\u001b[1;31m---------------------------------------------------------------------------\u001b[0m",
      "\u001b[1;31mNameError\u001b[0m                                 Traceback (most recent call last)",
      "\u001b[1;32md:\\dev\\workspace\\VSCode\\pytorch\\dl2\\ch4.7-2.ipynb Cell 5\u001b[0m in \u001b[0;36m<cell line: 3>\u001b[1;34m()\u001b[0m\n\u001b[0;32m      <a href='vscode-notebook-cell:/d%3A/dev/workspace/VSCode/pytorch/dl2/ch4.7-2.ipynb#W4sZmlsZQ%3D%3D?line=0'>1</a>\u001b[0m \u001b[39m# 读取模型\u001b[39;00m\n\u001b[0;32m      <a href='vscode-notebook-cell:/d%3A/dev/workspace/VSCode/pytorch/dl2/ch4.7-2.ipynb#W4sZmlsZQ%3D%3D?line=1'>2</a>\u001b[0m PATH \u001b[39m=\u001b[39m \u001b[39m'\u001b[39m\u001b[39m./mnist.pth\u001b[39m\u001b[39m'\u001b[39m\n\u001b[1;32m----> <a href='vscode-notebook-cell:/d%3A/dev/workspace/VSCode/pytorch/dl2/ch4.7-2.ipynb#W4sZmlsZQ%3D%3D?line=2'>3</a>\u001b[0m net \u001b[39m=\u001b[39m NeuralNetwork()\n\u001b[0;32m      <a href='vscode-notebook-cell:/d%3A/dev/workspace/VSCode/pytorch/dl2/ch4.7-2.ipynb#W4sZmlsZQ%3D%3D?line=3'>4</a>\u001b[0m net\u001b[39m.\u001b[39mload_state_dict(torch\u001b[39m.\u001b[39mload(PATH))\n\u001b[0;32m      <a href='vscode-notebook-cell:/d%3A/dev/workspace/VSCode/pytorch/dl2/ch4.7-2.ipynb#W4sZmlsZQ%3D%3D?line=4'>5</a>\u001b[0m \u001b[39m# 评估模型效果\u001b[39;00m\n",
      "\u001b[1;31mNameError\u001b[0m: name 'NeuralNetwork' is not defined"
     ]
    }
   ],
   "source": [
    "# 读取模型\n",
    "PATH = './mnist.pth'\n",
    "net = NeuralNetwork()\n",
    "net.load_state_dict(torch.load(PATH))\n",
    "# 评估模型效果\n",
    "correct_count, all_count = 0, 0\n",
    "\n",
    "# 从test_loader中一批一批加载图片\n",
    "for images, labels in test_loader:\n",
    "    for i in range(len(labels)):\n",
    "        pred = net(images[i])       # 进行前向传播，获取预测值\n",
    "        pred_list = list(pred.detach().numpy()[0])       # 将预测结果转为概率列表。[0]是取第一张照片的10个数字的概率列表（因为一次只预测一张照片）\n",
    "        pred_label = pred_list.index(max(pred_list))      # 取最大的index作为预测结果\n",
    "        true_label = labels.numpy()[i]\n",
    "        if(true_label == pred_label):       # 如果预测标签和真实标签相等，则预测正确\n",
    "            correct_count += 1\n",
    "        all_count += 1\n",
    "\n",
    "print('Number of Images tested: {}'.format(all_count))\n",
    "print('Model Accuracy: {}'.format(correct_count/all_count))"
   ]
  }
 ],
 "metadata": {
  "kernelspec": {
   "display_name": "Python 3.10.6 64-bit",
   "language": "python",
   "name": "python3"
  },
  "language_info": {
   "codemirror_mode": {
    "name": "ipython",
    "version": 3
   },
   "file_extension": ".py",
   "mimetype": "text/x-python",
   "name": "python",
   "nbconvert_exporter": "python",
   "pygments_lexer": "ipython3",
   "version": "3.10.6"
  },
  "orig_nbformat": 4,
  "vscode": {
   "interpreter": {
    "hash": "21e578f6440059c18f477992d0613b33be936b05e550120a59227a921ce346f6"
   }
  }
 },
 "nbformat": 4,
 "nbformat_minor": 2
}
